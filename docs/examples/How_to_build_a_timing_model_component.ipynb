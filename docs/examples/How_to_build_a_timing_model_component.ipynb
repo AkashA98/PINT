{
 "cells": [
  {
   "cell_type": "markdown",
   "metadata": {},
   "source": [
    "# How to compose a timing model component\n",
    "\n",
    "## Building the timing model component from scratch\n",
    "\n",
    "This example notebook includes the following contents\n",
    "* Defining a timing model component class\n",
    "  * Necessary parts\n",
    "  * Conventions\n",
    "* Use it with the `TimingModel` class\n",
    "  * Add the new component to the `TimingModel` class\n",
    "  * Use the functions in the `TimingModel` class to interact with the new component.\n",
    "  \n",
    "We will build a simple model component, pulsar spindow model with spin period as parameters, instead of spin frequency. "
   ]
  },
  {
   "cell_type": "markdown",
   "metadata": {},
   "source": [
    "## Import the necessary modules"
   ]
  },
  {
   "cell_type": "code",
   "execution_count": 3,
   "metadata": {},
   "outputs": [],
   "source": [
    "import numpy as np   # Numpy is a widely used package\n",
    "# PINT uses astropy units in the internal cacluation and is highly recommended for a new component\n",
    "import astropy.units as u  \n",
    "# Import the component classes. \n",
    "from pint.models.timing_model import TimingModel, Component, PhaseComponent\n",
    "import pint.models.parameter as p "
   ]
  },
  {
   "cell_type": "markdown",
   "metadata": {},
   "source": [
    "## Define the timing model class\n",
    "\n",
    "A timing model component should be an inheritance/subclass of `pint.models.timing_model.Component`. PINT also pre-defines three component subclasses for the most used type of components and they have different attribute and functions (see: https://nanograv-pint.readthedocs.io/en/latest/api/pint.models.timing_model.html):\n",
    "* DelayComponent for delay type of models. \n",
    "* PhaseComponent for phase type of models.\n",
    "* NoiseComponent for noise type of models.\n",
    "\n",
    "Here since we are making a spin-down model, we will use the `PhaseComponent`."
   ]
  },
  {
   "cell_type": "markdown",
   "metadata": {},
   "source": [
    "### Required parts\n",
    "* Model parameters, generally defined as `PINT.models.parameter.Parameter` class or its subclasses. (see https://nanograv-pint.readthedocs.io/en/latest/api/pint.models.parameter.html)\n",
    "* Model functions, defined as methods in the component, including:\n",
    "    * .setup(), for setting up the component(e.g., registering the derivatives). \n",
    "    * .validate(), for checking if the parameters have the correct inputs. \n",
    "    * Modeled quantity functions.\n",
    "    * The derivative of modeled quantities.\n",
    "    * Other support functions. "
   ]
  },
  {
   "cell_type": "code",
   "execution_count": null,
   "metadata": {},
   "outputs": [],
   "source": [
    "class PeriodSpindown(PhaseComponent):\n",
    "    \"\"\"This is an example model component of pular spindown but parametrized as period. \n",
    "    \"\"\"\n",
    "    register = True # Flags for the model builder to find this component.\n",
    "    # define the init function.\n",
    "    # Most components do not have a parameter for input.\n",
    "    def __init__(self): \n",
    "        # Get the attruibutes that initilzed in the parent class\n",
    "        super().__init__()\n",
    "        # add parameter\n",
    "        \n",
    "        \n",
    "        \n",
    "    "
   ]
  }
 ],
 "metadata": {
  "kernelspec": {
   "display_name": "Python 3",
   "language": "python",
   "name": "python3"
  },
  "language_info": {
   "codemirror_mode": {
    "name": "ipython",
    "version": 3
   },
   "file_extension": ".py",
   "mimetype": "text/x-python",
   "name": "python",
   "nbconvert_exporter": "python",
   "pygments_lexer": "ipython3",
   "version": "3.6.12"
  }
 },
 "nbformat": 4,
 "nbformat_minor": 4
}
