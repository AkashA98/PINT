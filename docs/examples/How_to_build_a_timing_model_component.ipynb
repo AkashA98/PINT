{
 "cells": [
  {
   "cell_type": "markdown",
   "metadata": {},
   "source": [
    "# How to compose a timing model component\n",
    "\n",
    "## Building the timing model component from scratch\n",
    "\n",
    "This example notebook includes the following contents\n",
    "* Defining a timing model component class\n",
    "  * Necessary parts\n",
    "  * Conventions\n",
    "* Use it with the `TimingModel` class\n",
    "  * Add the new component to the `TimingModel` class\n",
    "  * Use the functions in the `TimingModel` class to interact with the new component.\n",
    "  \n",
    "We will build a simple model component, pulsar spindow model with spin period as parameters, instead of spin frequency. "
   ]
  },
  {
   "cell_type": "markdown",
   "metadata": {},
   "source": [
    "## Import the necessary modules"
   ]
  },
  {
   "cell_type": "code",
   "execution_count": 1,
   "metadata": {},
   "outputs": [],
   "source": [
    "import numpy as np   # Numpy is a widely used package\n",
    "# PINT uses astropy units in the internal cacluation and is highly recommended for a new component\n",
    "import astropy.units as u  \n",
    "# Import the component classes. \n",
    "from pint.models.timing_model import TimingModel, Component, PhaseComponent\n",
    "import pint.models.parameter as p "
   ]
  },
  {
   "cell_type": "markdown",
   "metadata": {},
   "source": [
    "## Define the timing model class\n",
    "\n",
    "A timing model component should be an inheritance/subclass of `pint.models.timing_model.Component`. PINT also pre-defines three component subclasses for the most used type of components and they have different attribute and functions (see: https://nanograv-pint.readthedocs.io/en/latest/api/pint.models.timing_model.html):\n",
    "* DelayComponent for delay type of models. \n",
    "* PhaseComponent for phase type of models.\n",
    "* NoiseComponent for noise type of models.\n",
    "\n",
    "Here since we are making a spin-down model, we will use the `PhaseComponent`."
   ]
  },
  {
   "cell_type": "markdown",
   "metadata": {},
   "source": [
    "### Required parts\n",
    "* Model parameters, generally defined as `PINT.models.parameter.Parameter` class or its subclasses. (see https://nanograv-pint.readthedocs.io/en/latest/api/pint.models.parameter.html)\n",
    "* Model functions, defined as methods in the component, including:\n",
    "    * .setup(), for setting up the component(e.g., registering the derivatives). \n",
    "    * .validate(), for checking if the parameters have the correct inputs. \n",
    "    * Modeled quantity functions.\n",
    "    * The derivative of modeled quantities.\n",
    "    * Other support functions. "
   ]
  },
  {
   "cell_type": "markdown",
   "metadata": {},
   "source": [
    "### Conventions\n",
    "\n",
    "To make a component work as a part of a timing model, it has to follow the following rules to interface the `TimingModel` class. Using the analog of a circuit board, the `TimingModel` object is the mother board, and the `Component` objects are the electronic components(e.g., resistors and transistors); and the following rules are the pins of a component. \n",
    "\n",
    "* Set the class attribute `.register` to be True so that the component is in the searching space of model builder \n",
    "* Add the method of final result in the designated list, so the `TimingModel`'s collecting function(e.g., total delay or total phase) can collect the result. Here are the designated list for the most common component type:\n",
    "  * DelayComponent: .delay_funcs_component\n",
    "  * PhaseComponent: .phase_funcs_component\n",
    "  * NoiseComponent: .\n",
    "    * `.basis_funcs`\n",
    "    * `.covariance_matrix_funcs` \n",
    "    * `.scaled_toa_sigma_funcs` \n",
    "    * `.scaled_dm_sigma_funcs`\n",
    "    * `.dm_covariance_matrix_funcs_component`\n",
    "\n",
    "* Register the analytical derivative functions using the `.register_deriv_funcs(derivative function, parameter name)` if any. \n",
    "* If one wants to access the attribute in the parent `TimingModel` class or from other components, please use `._parent` attribute which is a linker to the `TimingModel` class and other components. "
   ]
  },
  {
   "cell_type": "code",
   "execution_count": 2,
   "metadata": {},
   "outputs": [],
   "source": [
    "class PeriodSpindown(PhaseComponent):\n",
    "    \"\"\"This is an example model component of pular spindown but parametrized as period. \n",
    "    \"\"\"\n",
    "    register = True # Flags for the model builder to find this component.\n",
    "    # define the init function.\n",
    "    # Most components do not have a parameter for input.\n",
    "    def __init__(self): \n",
    "        # Get the attruibutes that initilzed in the parent class\n",
    "        super().__init__()\n",
    "        # Add parameters using the add_params in the TimingModel \n",
    "        # Add spin period as parameter\n",
    "        self.add_param(p.floatParameter(name='P0', value=None, units=u.s, \n",
    "                                        description=\"Spin period\", longdouble=True))\n",
    "        # Add spin period derivative P1. Since it is not all rquired, we are setting the \n",
    "        # default value to 0.0\n",
    "        self.add_param(p.floatParameter(name='P1', value=0.0, units=u.s/u.s, \n",
    "                                        description=\"Spin period derivative\", longdouble=True))\n",
    "        # Add reference epoch time.\n",
    "        self.add_param(p.MJDParameter(name=\"PEPOCH_P0\", description=\"Reference epoch for spin-down\", \n",
    "                                      time_scale='tdb'))\n",
    "        # Add spindown phase model function to phase functions\n",
    "        self.phase_funcs_component += [self.spindown_phase_period] \n",
    "        # Add the d_phase_d_delay derivative to the list\n",
    "        self.phase_derivs_wrt_delay += [self.d_spindown_phase_period_d_delay]\n",
    "        \n",
    "    def setup(self):\n",
    "        \"\"\"Setup the model. Register the derivative functions\"\"\"\n",
    "        super().setup() # This will run the setup in the Component class.\n",
    "        # The following lines are resgistering the derivative functions to the timingmodel.\n",
    "        self.register_deriv_funcs(self.d_phase_d_P0, 'P0')\n",
    "        self.register_deriv_funcs(self.d_phase_d_P1, 'P1')\n",
    "            \n",
    "    def validate(self):\n",
    "        \"\"\"Check the parameter value.\"\"\"\n",
    "        super().validate() # This will run the .validate() in the component class\n",
    "        # Check required parameters, since P1 is not required, we are not checking it here\n",
    "        for param in ['P0']:\n",
    "            if getattr(self, param) is None:\n",
    "                raise ValueError(\"Spindown period model needs {}\".format(param))\n",
    "    \n",
    "    # One can always setup properties for updating attributes automatically.\n",
    "    @property\n",
    "    def F0(self):\n",
    "        # We return F0 as parameter here since the other place of PINT code use F0 \n",
    "        # in the format of PINT parameter. \n",
    "        return p.floatParameter(name=\"F0\",\n",
    "            value=1.0 / self.P0.quantity ,\n",
    "            units=\"Hz\",\n",
    "            description=\"Spin-frequency\",\n",
    "            long_double=True)\n",
    "    \n",
    "    # Defining the derivatives. In the PINT, a common format of derivative naming is \n",
    "    # d_xxx_d_xxxx\n",
    "    @property\n",
    "    def d_F0_d_P0(self):\n",
    "        return -1.0 / self.P0.quantity **2\n",
    "    \n",
    "    @property\n",
    "    def F1(self):\n",
    "        return p.floatParameter(name=\"F1\",\n",
    "            value=self.d_F0_d_P0 * self.P1.quantity,\n",
    "            units=u.Hz/u.s,\n",
    "            description=\"Spin down frequency\",\n",
    "            long_double=True)\n",
    "    \n",
    "    @property\n",
    "    def d_F1_d_P0(self):\n",
    "        return self.P1.quantity * 2.0 / self.P0.quantity ** 3\n",
    "    \n",
    "    @property\n",
    "    def d_F1_d_P1(self):\n",
    "        return self.d_F0_d_P0\n",
    "    \n",
    "    def get_dt(self, toas, delay):\n",
    "        \"\"\"dt from the toas to the reference time.\"\"\"\n",
    "        # toas.table['tdbld'] stores the tdb time in longdouble.\n",
    "        return (toas.table['tdbld'] - self.PEPOCH_P0.value) * u.day - delay\n",
    "    \n",
    "    # Defining the phase function, which is added to the self.phase_funcs_component\n",
    "    def spindown_phase_period(self, toas, delay):\n",
    "        \"\"\"Spindown phase using P0 and P1\"\"\"\n",
    "        dt = self.get_dt(toas, delay)\n",
    "        return self.F0.quantity * dt + 0.5 * self.F1.quantity * dt ** 2\n",
    "    \n",
    "    def d_spindown_phase_period_d_delay(self, toas, delay):\n",
    "        \"\"\"This is part of the derivative chain for the parameters in the delay term.\n",
    "        \"\"\"\n",
    "        dt = self.get_dt(toas, delay)\n",
    "        return - (self.F0.quantity + dt * self.F1.quantity)\n",
    "    \n",
    "    def d_phase_d_P0(self, toas, param, delay):\n",
    "        dt = self.get_dt(toas, delay)\n",
    "        return self.d_F0_d_P0 * dt + 0.5 * self.d_F1_d_P0 * dt ** 2\n",
    "    \n",
    "    def d_phase_d_P1(self, toas, param, delay):\n",
    "        dt = self.get_dt(toas, delay)\n",
    "        return 0.5 * self.d_F1_d_P1 * dt ** 2\n",
    "    \n",
    "    \n",
    "    "
   ]
  },
  {
   "cell_type": "markdown",
   "metadata": {},
   "source": [
    "## Apply the new component to the `TimingModel`\n",
    "\n",
    "Let us use this new model component in our example pulsar \"NGC6440E\", which has `F0` and `F1`. Instead, we will use the model component above. The following `.par` file string if converted from the `NGC6440E.par` with `P0` and `P1` instead of `F0`, `F1`."
   ]
  },
  {
   "cell_type": "code",
   "execution_count": 3,
   "metadata": {},
   "outputs": [],
   "source": [
    "par_string = \"\"\"\n",
    "             PSR              1748-2021E\n",
    "             RAJ       17:48:52.75  1 0.05\n",
    "             DECJ      -20:21:29.0  1 0.4\n",
    "             P0        0.016264003404474613 1 0\n",
    "             P1        3.123955D-19 1 0\n",
    "             PEPOCH_P0     53750.000000\n",
    "             POSEPOCH      53750.000000\n",
    "             DM              223.9  1 0.3\n",
    "             SOLARN0               0.00\n",
    "             EPHEM               DE421\n",
    "             CLK              UTC(NIST)\n",
    "             UNITS               TDB\n",
    "             TIMEEPH             FB90\n",
    "             T2CMETHOD           TEMPO\n",
    "             CORRECT_TROPOSPHERE N\n",
    "             PLANET_SHAPIRO      N\n",
    "             DILATEFREQ          N\n",
    "             TZRMJD  53801.38605120074849\n",
    "             TZRFRQ            1949.609\n",
    "             TZRSITE                  1\n",
    "             \"\"\""
   ]
  },
  {
   "cell_type": "code",
   "execution_count": 4,
   "metadata": {},
   "outputs": [],
   "source": [
    "from pint.models import get_model\n",
    "import io"
   ]
  },
  {
   "cell_type": "markdown",
   "metadata": {},
   "source": [
    "### Load the timing model with new parameterization. "
   ]
  },
  {
   "cell_type": "code",
   "execution_count": 5,
   "metadata": {},
   "outputs": [
    {
     "name": "stderr",
     "output_type": "stream",
     "text": [
      "/home/luo/.local/lib/python3.6/site-packages/pint/models/timing_model.py:304: UserWarning: PINT only supports 'T2CMETHOD IAU2000B'\n",
      "  warn(\"PINT only supports 'T2CMETHOD IAU2000B'\")\n"
     ]
    }
   ],
   "source": [
    "model = get_model(io.StringIO(par_string)) # PINT can take a string IO for inputing the par file"
   ]
  },
  {
   "cell_type": "markdown",
   "metadata": {},
   "source": [
    "#### Check if the component is loaded into the timing model and make sure there is no built-in spindown model."
   ]
  },
  {
   "cell_type": "code",
   "execution_count": 6,
   "metadata": {},
   "outputs": [
    {
     "name": "stdout",
     "output_type": "stream",
     "text": [
      "PeriodSpindown(\n",
      "    floatParameter( P0                  0.016264003404474613 (s) +/- 0.0 s frozen=False),\n",
      "    floatParameter( P1                  3.123955e-19      () +/- 0.0 frozen=False),\n",
      "    MJDParameter(   PEPOCH_P0           53750.0000000000000000 (d) frozen=True))\n",
      "Is the built-in spin-down model in the timing model:  False\n",
      "Is 'P0' in the timing model:  True\n",
      "Is 'P1' in the timing model:  True\n",
      "Is 'F0' in the timing model:  False\n",
      "Is 'F1' in the timing model:  False\n"
     ]
    }
   ],
   "source": [
    "print(model.components['PeriodSpindown'])\n",
    "print(\"Is the built-in spin-down model in the timing model: \", 'Spindown' in model.components.keys())\n",
    "print(\"Is 'P0' in the timing model: \", 'P0' in model.params)\n",
    "print(\"Is 'P1' in the timing model: \", 'P1' in model.params)\n",
    "print(\"Is 'F0' in the timing model: \", 'F0' in model.params)\n",
    "print(\"Is 'F1' in the timing model: \", 'F1' in model.params)"
   ]
  },
  {
   "cell_type": "markdown",
   "metadata": {},
   "source": [
    "### Load TOAs and prepare for fitting"
   ]
  },
  {
   "cell_type": "code",
   "execution_count": 7,
   "metadata": {},
   "outputs": [],
   "source": [
    "from pint.fitter import WLSFitter\n",
    "from pint.toa import get_TOAs"
   ]
  },
  {
   "cell_type": "code",
   "execution_count": 8,
   "metadata": {},
   "outputs": [
    {
     "name": "stdout",
     "output_type": "stream",
     "text": [
      "INFO: Applying clock corrections (include_gps = True, include_bipm = True) [pint.toa]\n",
      "INFO: Observatory gbt, loading clock file \n",
      "\t/home/luo/.local/lib/python3.6/site-packages/pint/datafiles/time.dat [pint.observatory.topo_obs]\n",
      "INFO: Applying observatory clock corrections. [pint.observatory.topo_obs]\n",
      "INFO: Applying GPS to UTC clock correction (~few nanoseconds) [pint.observatory.topo_obs]\n",
      "INFO: Observatory gbt, loading GPS clock file \n",
      "\t/home/luo/.local/lib/python3.6/site-packages/pint/datafiles/gps2utc.clk [pint.observatory.topo_obs]\n",
      "INFO: Applying TT(TAI) to TT(BIPM2015) clock correction (~27 us) [pint.observatory.topo_obs]\n",
      "INFO: Observatory gbt, loading BIPM clock file \n",
      "\t/home/luo/.local/lib/python3.6/site-packages/pint/datafiles/tai2tt_bipm2015.clk [pint.observatory.topo_obs]\n",
      "INFO: Computing TDB columns. [pint.toa]\n",
      "INFO: Using EPHEM = DE421 for TDB calculation. [pint.toa]\n",
      "INFO: Computing PosVels of observatories and Earth, using DE421 [pint.toa]\n",
      "INFO: Set solar system ephemeris to link:\n",
      "\thttps://data.nanograv.org/static/data/ephem/de421.bsp [pint.solar_system_ephemerides]\n"
     ]
    }
   ],
   "source": [
    "toas = get_TOAs(\"NGC6440E.tim\", ephem='DE421')\n",
    "f = WLSFitter(toas, model)"
   ]
  },
  {
   "cell_type": "markdown",
   "metadata": {},
   "source": [
    "### Plot the residuals"
   ]
  },
  {
   "cell_type": "code",
   "execution_count": 9,
   "metadata": {},
   "outputs": [],
   "source": [
    "import matplotlib.pyplot as plt"
   ]
  },
  {
   "cell_type": "markdown",
   "metadata": {},
   "source": [
    "### Plot the prefit residuals."
   ]
  },
  {
   "cell_type": "code",
   "execution_count": 10,
   "metadata": {},
   "outputs": [
    {
     "data": {
      "image/png": "[encoded data removed]",
      "text/plain": [
       "<Figure size 432x288 with 1 Axes>"
      ]
     },
     "metadata": {
      "needs_background": "light"
     },
     "output_type": "display_data"
    }
   ],
   "source": [
    "plt.errorbar(\n",
    "    toas.get_mjds().value,\n",
    "    f.resids_init.time_resids.to_value(u.us),\n",
    "    yerr=toas.get_errors().to_value(u.us),\n",
    "    fmt=\".\",\n",
    ")\n",
    "plt.title(\"%s Pre-Fit Timing Residuals\" % model.PSR.value)\n",
    "plt.xlabel(\"MJD\")\n",
    "plt.ylabel(\"Residual (us)\")\n",
    "plt.grid()"
   ]
  },
  {
   "cell_type": "markdown",
   "metadata": {},
   "source": [
    "### Fit the TOAs using `P0` and `P1`"
   ]
  },
  {
   "cell_type": "code",
   "execution_count": 11,
   "metadata": {},
   "outputs": [
    {
     "name": "stderr",
     "output_type": "stream",
     "text": [
      "/home/luo/.local/lib/python3.6/site-packages/pint/models/timing_model.py:304: UserWarning: PINT only supports 'T2CMETHOD IAU2000B'\n",
      "  warn(\"PINT only supports 'T2CMETHOD IAU2000B'\")\n"
     ]
    },
    {
     "data": {
      "text/plain": [
       "59.57431916084274442"
      ]
     },
     "execution_count": 11,
     "metadata": {},
     "output_type": "execute_result"
    }
   ],
   "source": [
    "f.fit_toas()"
   ]
  },
  {
   "cell_type": "markdown",
   "metadata": {},
   "source": [
    "### Plot the post-fit residuals"
   ]
  },
  {
   "cell_type": "code",
   "execution_count": 12,
   "metadata": {},
   "outputs": [
    {
     "data": {
      "image/png": "[encoded data removed]",
      "text/plain": [
       "<Figure size 432x288 with 1 Axes>"
      ]
     },
     "metadata": {
      "needs_background": "light"
     },
     "output_type": "display_data"
    }
   ],
   "source": [
    "plt.errorbar(\n",
    "    toas.get_mjds().value,\n",
    "    f.resids.time_resids.to_value(u.us),\n",
    "    yerr=toas.get_errors().to_value(u.us),\n",
    "    fmt=\".\",\n",
    ")\n",
    "plt.title(\"%s Pre-Fit Timing Residuals\" % model.PSR.value)\n",
    "plt.xlabel(\"MJD\")\n",
    "plt.ylabel(\"Residual (us)\")\n",
    "plt.grid()"
   ]
  },
  {
   "cell_type": "markdown",
   "metadata": {},
   "source": [
    "### Print out the summary"
   ]
  },
  {
   "cell_type": "code",
   "execution_count": 13,
   "metadata": {},
   "outputs": [
    {
     "name": "stdout",
     "output_type": "stream",
     "text": [
      "Fitted model using weighted_least_square method with 5 free parameters to 62 TOAs\n",
      "Prefit residuals Wrms = 1090.5804716423524 us, Postfit residuals Wrms = 21.182038641716428 us\n",
      "Chisq = 59.574 for 56 d.o.f. for reduced Chisq of 1.064\n",
      "\n",
      "PAR                        Prefit                  Postfit            Units\n",
      "=================== ==================== ============================ =====\n",
      "PSR                           1748-2021E 1748-2021E                   None\n",
      "EPHEM                              DE421 DE421                        None\n",
      "CLOCK                          UTC(NIST) TT(BIPM2015)                 None\n",
      "UNITS                                TDB TDB                          None\n",
      "START                                                         53478.3 d \n",
      "FINISH                                                        54187.6 d \n",
      "TIMEEPH                             FB90 FB90                         None\n",
      "T2CMETHOD                          TEMPO TEMPO                        None\n",
      "DILATEFREQ                             N                              None\n",
      "DMDATA                                 0                               \n",
      "NTOA                                   0                               \n",
      "CHI2                                   0                               \n",
      "POSEPOCH                           53750                              d \n",
      "PX                                     0                              mas \n",
      "RAJ                         17h48m52.75s    17h48m52.8003s +/- 0.00014 hourangle_second \n",
      "DECJ                          -20d21m29s   -20d21m29.3833s +/- 0.033 arcsec \n",
      "PMRA                                   0                              mas / yr \n",
      "PMDEC                                  0                              mas / yr \n",
      "CORRECT_TROPOSPHERE                    N                              None\n",
      "PLANET_SHAPIRO                         N                              None\n",
      "NE_SW                                  0                              1 / cm3 \n",
      "SWM                                    0                               \n",
      "DM                                 223.9                  224.114(35) pc / cm3 \n",
      "DM1                                    0                              pc / (cm3 yr) \n",
      "TZRMJD                           53801.4                              d \n",
      "TZRSITE                                1 1                            None\n",
      "TZRFRQ                           1949.61                              MHz \n",
      "P0                              0.016264         0.016264003404376(5) s \n",
      "P1                           3.12396e-19               3.125(4)×10⁻¹⁹  \n",
      "PEPOCH_P0                          53750                              d \n",
      "\n",
      "Derived Parameters:\n",
      "Period = 0.01626400340437608 s\n",
      "\n"
     ]
    }
   ],
   "source": [
    "f.print_summary()"
   ]
  }
 ],
 "metadata": {
  "kernelspec": {
   "display_name": "Python 3",
   "language": "python",
   "name": "python3"
  },
  "language_info": {
   "codemirror_mode": {
    "name": "ipython",
    "version": 3
   },
   "file_extension": ".py",
   "mimetype": "text/x-python",
   "name": "python",
   "nbconvert_exporter": "python",
   "pygments_lexer": "ipython3",
   "version": "3.6.12"
  }
 },
 "nbformat": 4,
 "nbformat_minor": 4
}
