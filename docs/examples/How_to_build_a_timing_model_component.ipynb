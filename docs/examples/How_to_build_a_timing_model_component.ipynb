{
 "cells": [
  {
   "cell_type": "markdown",
   "metadata": {},
   "source": [
    "# How to compose a timing model component\n",
    "\n",
    "## Building the timing model component from scratch\n",
    "\n",
    "This example notebook includes the following contents\n",
    "* Defining a timing model component class\n",
    "  * Necessary parts\n",
    "  * Conventions\n",
    "* Use it with the `TimingModel` class\n",
    "  * Add the new component to the `TimingModel` class\n",
    "  * Use the functions in the `TimingModel` class to interact with the new component.\n",
    "  \n",
    "We will build a simple model component, pulsar spindow model with spin period as parameters, instead of spin frequency. "
   ]
  },
  {
   "cell_type": "markdown",
   "metadata": {},
   "source": [
    "## Import the necessary modules"
   ]
  },
  {
   "cell_type": "code",
   "execution_count": 3,
   "metadata": {},
   "outputs": [],
   "source": [
    "import numpy as np   # Numpy is a widely used package\n",
    "# PINT uses astropy units in the internal cacluation and is highly recommended for a new component\n",
    "import astropy.units as u  \n",
    "# Import the component classes. \n",
    "from pint.models.timing_model import TimingModel, Component, PhaseComponent, Missing\n",
    "import pint.models.parameter as p "
   ]
  },
  {
   "cell_type": "markdown",
   "metadata": {},
   "source": [
    "## Define the timing model class\n",
    "\n",
    "A timing model component should be an inheritance/subclass of `pint.models.timing_model.Component`. PINT also pre-defines three component subclasses for the most used type of components and they have different attribute and functions (see: https://nanograv-pint.readthedocs.io/en/latest/api/pint.models.timing_model.html):\n",
    "* DelayComponent for delay type of models. \n",
    "* PhaseComponent for phase type of models.\n",
    "* NoiseComponent for noise type of models.\n",
    "\n",
    "Here since we are making a spin-down model, we will use the `PhaseComponent`."
   ]
  },
  {
   "cell_type": "markdown",
   "metadata": {},
   "source": [
    "### Required parts\n",
    "* Model parameters, generally defined as `PINT.models.parameter.Parameter` class or its subclasses. (see https://nanograv-pint.readthedocs.io/en/latest/api/pint.models.parameter.html)\n",
    "* Model functions, defined as methods in the component, including:\n",
    "    * .setup(), for setting up the component(e.g., registering the derivatives). \n",
    "    * .validate(), for checking if the parameters have the correct inputs. \n",
    "    * Modeled quantity functions.\n",
    "    * The derivative of modeled quantities.\n",
    "    * Other support functions. "
   ]
  },
  {
   "cell_type": "markdown",
   "metadata": {},
   "source": [
    "### Conventions\n",
    "\n",
    "To make a component work as a part of a timing model, it has to follow the following rules to interface the `TimingModel` class. Using the analog of a circuit board, the `TimingModel` object is the mother board, and the `Component` objects are the electronic components(e.g., resistors and transistors); and the following rules are the pins of a component. \n",
    "\n",
    "* Set the class attribute `.register` to be True so that the component is in the searching space of model builder \n",
    "* Add the method of final result in the designated list, so the `TimingModel`'s collecting function(e.g., total delay or total phase) can collect the result. Here are the designated list for the most common component type:\n",
    "  * DelayComponent: .delay_funcs_component\n",
    "  * PhaseComponent: .phase_funcs_component\n",
    "  * NoiseComponent: .\n",
    "    * `.basis_funcs`\n",
    "    * `.covariance_matrix_funcs` \n",
    "    * `.scaled_toa_sigma_funcs` \n",
    "    * `.scaled_dm_sigma_funcs`\n",
    "    * `.dm_covariance_matrix_funcs_component`\n",
    "\n",
    "* Register the analytical derivative functions using the `.register_deriv_funcs(derivative function, parameter name)` if any. \n",
    "* If one wants to access the attribute in the parent `TimingModel` class or from other components, please use `._parent` attribute which is a linker to the `TimingModel` class and other components. "
   ]
  },
  {
   "cell_type": "code",
   "execution_count": null,
   "metadata": {},
   "outputs": [],
   "source": [
    "class PeriodSpindown(PhaseComponent):\n",
    "    \"\"\"This is an example model component of pular spindown but parametrized as period. \n",
    "    \"\"\"\n",
    "    register = True # Flags for the model builder to find this component.\n",
    "    # define the init function.\n",
    "    # Most components do not have a parameter for input.\n",
    "    def __init__(self): \n",
    "        # Get the attruibutes that initilzed in the parent class\n",
    "        super().__init__()\n",
    "        # Add parameters using the add_params in the TimingModel \n",
    "        # Add spin period as parameter\n",
    "        self.add_param(p.floatParameter(name='P0', value=None, units=u.s, \n",
    "                                        description=\"Spin period\", longdouble=True))\n",
    "        # Add spin period derivative P1. Since it is not all rquired, we are setting the \n",
    "        # default value to 0.0\n",
    "        self.add_param(p.floatParameter(name='P1', value=0.0, units=u.s/u.s, \n",
    "                                        description=\"Spin period derivative\", longdouble=True))\n",
    "        # Add reference epoch time\n",
    "        self.add_param(p.MJDParameter(name=\"PEPOCH\", description=\"Reference epoch for spin-down\", \n",
    "                                      time_scale='tdb'))\n",
    "        # Add spindown phase model function to phase functions\n",
    "        self.phase_funcs_component += [self.spindown_phase_period] \n",
    "        # Add the d_phase_d_delay derivative to the list\n",
    "        self.phase_derive_wrt_delay += [self.d_spindown_phase_period_d_delay]\n",
    "        \n",
    "    def setup(self):\n",
    "        \"\"\"Setup the model. Register the derivative functions\"\"\"\n",
    "        super().setup() # This will run the setup in the Component class.\n",
    "        # The following lines are resgistering the derivative functions to the timingmodel.\n",
    "        self.register_deriv_funcs(self.d_phase_d_P0, 'P0')\n",
    "        self.register_deriv_funcs(self.d_phase_d_P1, 'P1')\n",
    "            \n",
    "    def validate(self):\n",
    "        \"\"\"Check the parameter value.\"\"\"\n",
    "        super().validate() # This will run the .validate() in the component class\n",
    "        # Check required parameters, since P1 is not required, we are not checking it here\n",
    "        for param in ['P0']:\n",
    "            if getattr(self, param) is None:\n",
    "                raise ValueError(\"Spindown period model needs {}\".format(param))\n",
    "        \n",
    "    def get_dt(self, toa, delay):\n",
    "        pass\n",
    "    \n",
    "    def spindown_phase(self, toas, delay):\n",
    "        pass \n",
    "    \n",
    "    def d_spindown_phase_period_d_delay(self, toas, delay):\n",
    "        pass\n",
    "    \n",
    "    def d_phase_d_P0(self, toas, param, delay):\n",
    "        pass\n",
    "    \n",
    "    def d_phase_d_P1(self, toas, param, delay):\n",
    "        pass\n",
    "    "
   ]
  }
 ],
 "metadata": {
  "kernelspec": {
   "display_name": "Python 3",
   "language": "python",
   "name": "python3"
  },
  "language_info": {
   "codemirror_mode": {
    "name": "ipython",
    "version": 3
   },
   "file_extension": ".py",
   "mimetype": "text/x-python",
   "name": "python",
   "nbconvert_exporter": "python",
   "pygments_lexer": "ipython3",
   "version": "3.6.12"
  }
 },
 "nbformat": 4,
 "nbformat_minor": 4
}
